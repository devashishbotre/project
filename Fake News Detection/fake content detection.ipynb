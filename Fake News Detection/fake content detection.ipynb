{
 "cells": [
  {
   "cell_type": "markdown",
   "id": "f1cf2b87",
   "metadata": {},
   "source": [
    "# Import Libraries"
   ]
  },
  {
   "cell_type": "code",
   "execution_count": 1,
   "id": "f1b8cb5e",
   "metadata": {},
   "outputs": [],
   "source": [
    "import pandas as pd\n",
    "import numpy as np\n",
    "import seaborn as sns\n",
    "from sklearn.model_selection import train_test_split\n",
    "import matplotlib.pyplot as plt\n",
    "from sklearn.metrics import accuracy_score,classification_report\n",
    "from wordcloud import WordCloud\n",
    "import gensim\n",
    "from itertools import product\n",
    "from sklearn.metrics import confusion_matrix\n",
    "import pickle"
   ]
  },
  {
   "cell_type": "code",
   "execution_count": 2,
   "id": "5310b237",
   "metadata": {},
   "outputs": [],
   "source": [
    "from keras.preprocessing.text import Tokenizer\n",
    "from keras.preprocessing.sequence import pad_sequences\n",
    "from keras.models import Sequential\n",
    "from keras.layers import Dense,Embedding,LSTM,Conv1D,MaxPool1D\n",
    "from sklearn.model_selection import train_test_split\n",
    "from sklearn.metrics import accuracy_score,classification_report"
   ]
  },
  {
   "cell_type": "markdown",
   "id": "882bd237",
   "metadata": {},
   "source": [
    "# Load Data"
   ]
  },
  {
   "cell_type": "code",
   "execution_count": 3,
   "id": "cf051c1a",
   "metadata": {},
   "outputs": [],
   "source": [
    "real_data=pd.read_csv(\"D:/coding/BTP/News _dataset/True.csv\")\n",
    "fake_data=pd.read_csv(\"D:/coding/BTP/News _dataset/Fake.csv\")"
   ]
  },
  {
   "cell_type": "code",
   "execution_count": 4,
   "id": "189294ed",
   "metadata": {},
   "outputs": [
    {
     "data": {
      "text/html": [
       "<div>\n",
       "<style scoped>\n",
       "    .dataframe tbody tr th:only-of-type {\n",
       "        vertical-align: middle;\n",
       "    }\n",
       "\n",
       "    .dataframe tbody tr th {\n",
       "        vertical-align: top;\n",
       "    }\n",
       "\n",
       "    .dataframe thead th {\n",
       "        text-align: right;\n",
       "    }\n",
       "</style>\n",
       "<table border=\"1\" class=\"dataframe\">\n",
       "  <thead>\n",
       "    <tr style=\"text-align: right;\">\n",
       "      <th></th>\n",
       "      <th>title</th>\n",
       "      <th>text</th>\n",
       "      <th>subject</th>\n",
       "      <th>date</th>\n",
       "    </tr>\n",
       "  </thead>\n",
       "  <tbody>\n",
       "    <tr>\n",
       "      <th>0</th>\n",
       "      <td>As U.S. budget fight looms, Republicans flip t...</td>\n",
       "      <td>WASHINGTON (Reuters) - The head of a conservat...</td>\n",
       "      <td>politicsNews</td>\n",
       "      <td>December 31, 2017</td>\n",
       "    </tr>\n",
       "    <tr>\n",
       "      <th>1</th>\n",
       "      <td>U.S. military to accept transgender recruits o...</td>\n",
       "      <td>WASHINGTON (Reuters) - Transgender people will...</td>\n",
       "      <td>politicsNews</td>\n",
       "      <td>December 29, 2017</td>\n",
       "    </tr>\n",
       "    <tr>\n",
       "      <th>2</th>\n",
       "      <td>Senior U.S. Republican senator: 'Let Mr. Muell...</td>\n",
       "      <td>WASHINGTON (Reuters) - The special counsel inv...</td>\n",
       "      <td>politicsNews</td>\n",
       "      <td>December 31, 2017</td>\n",
       "    </tr>\n",
       "    <tr>\n",
       "      <th>3</th>\n",
       "      <td>FBI Russia probe helped by Australian diplomat...</td>\n",
       "      <td>WASHINGTON (Reuters) - Trump campaign adviser ...</td>\n",
       "      <td>politicsNews</td>\n",
       "      <td>December 30, 2017</td>\n",
       "    </tr>\n",
       "    <tr>\n",
       "      <th>4</th>\n",
       "      <td>Trump wants Postal Service to charge 'much mor...</td>\n",
       "      <td>SEATTLE/WASHINGTON (Reuters) - President Donal...</td>\n",
       "      <td>politicsNews</td>\n",
       "      <td>December 29, 2017</td>\n",
       "    </tr>\n",
       "  </tbody>\n",
       "</table>\n",
       "</div>"
      ],
      "text/plain": [
       "                                               title  \\\n",
       "0  As U.S. budget fight looms, Republicans flip t...   \n",
       "1  U.S. military to accept transgender recruits o...   \n",
       "2  Senior U.S. Republican senator: 'Let Mr. Muell...   \n",
       "3  FBI Russia probe helped by Australian diplomat...   \n",
       "4  Trump wants Postal Service to charge 'much mor...   \n",
       "\n",
       "                                                text       subject  \\\n",
       "0  WASHINGTON (Reuters) - The head of a conservat...  politicsNews   \n",
       "1  WASHINGTON (Reuters) - Transgender people will...  politicsNews   \n",
       "2  WASHINGTON (Reuters) - The special counsel inv...  politicsNews   \n",
       "3  WASHINGTON (Reuters) - Trump campaign adviser ...  politicsNews   \n",
       "4  SEATTLE/WASHINGTON (Reuters) - President Donal...  politicsNews   \n",
       "\n",
       "                 date  \n",
       "0  December 31, 2017   \n",
       "1  December 29, 2017   \n",
       "2  December 31, 2017   \n",
       "3  December 30, 2017   \n",
       "4  December 29, 2017   "
      ]
     },
     "execution_count": 4,
     "metadata": {},
     "output_type": "execute_result"
    }
   ],
   "source": [
    "real_data.head()"
   ]
  },
  {
   "cell_type": "code",
   "execution_count": 5,
   "id": "31a22000",
   "metadata": {},
   "outputs": [
    {
     "data": {
      "text/html": [
       "<div>\n",
       "<style scoped>\n",
       "    .dataframe tbody tr th:only-of-type {\n",
       "        vertical-align: middle;\n",
       "    }\n",
       "\n",
       "    .dataframe tbody tr th {\n",
       "        vertical-align: top;\n",
       "    }\n",
       "\n",
       "    .dataframe thead th {\n",
       "        text-align: right;\n",
       "    }\n",
       "</style>\n",
       "<table border=\"1\" class=\"dataframe\">\n",
       "  <thead>\n",
       "    <tr style=\"text-align: right;\">\n",
       "      <th></th>\n",
       "      <th>title</th>\n",
       "      <th>text</th>\n",
       "      <th>subject</th>\n",
       "      <th>date</th>\n",
       "    </tr>\n",
       "  </thead>\n",
       "  <tbody>\n",
       "    <tr>\n",
       "      <th>0</th>\n",
       "      <td>Donald Trump Sends Out Embarrassing New Year’...</td>\n",
       "      <td>Donald Trump just couldn t wish all Americans ...</td>\n",
       "      <td>News</td>\n",
       "      <td>December 31, 2017</td>\n",
       "    </tr>\n",
       "    <tr>\n",
       "      <th>1</th>\n",
       "      <td>Drunk Bragging Trump Staffer Started Russian ...</td>\n",
       "      <td>House Intelligence Committee Chairman Devin Nu...</td>\n",
       "      <td>News</td>\n",
       "      <td>December 31, 2017</td>\n",
       "    </tr>\n",
       "    <tr>\n",
       "      <th>2</th>\n",
       "      <td>Sheriff David Clarke Becomes An Internet Joke...</td>\n",
       "      <td>On Friday, it was revealed that former Milwauk...</td>\n",
       "      <td>News</td>\n",
       "      <td>December 30, 2017</td>\n",
       "    </tr>\n",
       "    <tr>\n",
       "      <th>3</th>\n",
       "      <td>Trump Is So Obsessed He Even Has Obama’s Name...</td>\n",
       "      <td>On Christmas day, Donald Trump announced that ...</td>\n",
       "      <td>News</td>\n",
       "      <td>December 29, 2017</td>\n",
       "    </tr>\n",
       "    <tr>\n",
       "      <th>4</th>\n",
       "      <td>Pope Francis Just Called Out Donald Trump Dur...</td>\n",
       "      <td>Pope Francis used his annual Christmas Day mes...</td>\n",
       "      <td>News</td>\n",
       "      <td>December 25, 2017</td>\n",
       "    </tr>\n",
       "  </tbody>\n",
       "</table>\n",
       "</div>"
      ],
      "text/plain": [
       "                                               title  \\\n",
       "0   Donald Trump Sends Out Embarrassing New Year’...   \n",
       "1   Drunk Bragging Trump Staffer Started Russian ...   \n",
       "2   Sheriff David Clarke Becomes An Internet Joke...   \n",
       "3   Trump Is So Obsessed He Even Has Obama’s Name...   \n",
       "4   Pope Francis Just Called Out Donald Trump Dur...   \n",
       "\n",
       "                                                text subject  \\\n",
       "0  Donald Trump just couldn t wish all Americans ...    News   \n",
       "1  House Intelligence Committee Chairman Devin Nu...    News   \n",
       "2  On Friday, it was revealed that former Milwauk...    News   \n",
       "3  On Christmas day, Donald Trump announced that ...    News   \n",
       "4  Pope Francis used his annual Christmas Day mes...    News   \n",
       "\n",
       "                date  \n",
       "0  December 31, 2017  \n",
       "1  December 31, 2017  \n",
       "2  December 30, 2017  \n",
       "3  December 29, 2017  \n",
       "4  December 25, 2017  "
      ]
     },
     "execution_count": 5,
     "metadata": {},
     "output_type": "execute_result"
    }
   ],
   "source": [
    "fake_data.head()"
   ]
  },
  {
   "cell_type": "code",
   "execution_count": 6,
   "id": "1a680a73",
   "metadata": {},
   "outputs": [
    {
     "name": "stdout",
     "output_type": "stream",
     "text": [
      "(21417, 4) (23481, 4)\n"
     ]
    }
   ],
   "source": [
    "print(real_data.shape,fake_data.shape)"
   ]
  },
  {
   "cell_type": "code",
   "execution_count": 7,
   "id": "a93ddc62",
   "metadata": {},
   "outputs": [
    {
     "data": {
      "text/plain": [
       "Index(['title', 'text', 'subject', 'date'], dtype='object')"
      ]
     },
     "execution_count": 7,
     "metadata": {},
     "output_type": "execute_result"
    }
   ],
   "source": [
    "real_data.columns"
   ]
  },
  {
   "cell_type": "markdown",
   "id": "518f1ed3",
   "metadata": {},
   "source": [
    "# Data Preprocessing"
   ]
  },
  {
   "cell_type": "code",
   "execution_count": 8,
   "id": "3ea3e1a9",
   "metadata": {},
   "outputs": [],
   "source": [
    "real_data=real_data.drop(8970,axis=0)"
   ]
  },
  {
   "cell_type": "code",
   "execution_count": 9,
   "id": "7de05512",
   "metadata": {},
   "outputs": [],
   "source": [
    "unknown=[]\n",
    "for index,row in enumerate(real_data.text.values):\n",
    "    try:\n",
    "        record=row.split(' - ',maxsplit=1)\n",
    "        record[1]\n",
    "        assert(len(record[0])<120)\n",
    "    except:\n",
    "        unknown.append(index)"
   ]
  },
  {
   "cell_type": "code",
   "execution_count": 10,
   "id": "1316464b",
   "metadata": {},
   "outputs": [
    {
     "data": {
      "text/plain": [
       "228"
      ]
     },
     "execution_count": 10,
     "metadata": {},
     "output_type": "execute_result"
    }
   ],
   "source": [
    "len(unknown)"
   ]
  },
  {
   "cell_type": "code",
   "execution_count": 11,
   "id": "d36ea0ec",
   "metadata": {},
   "outputs": [],
   "source": [
    "publisher=[]\n",
    "org_text=[]\n",
    "\n",
    "for index,row in enumerate(real_data.text.values):\n",
    "    if index in unknown:\n",
    "        org_text.append(row)\n",
    "        publisher.append('Unknown')\n",
    "    else:\n",
    "        record=row.split(' - ',maxsplit=1)\n",
    "        publisher.append(record[0].strip())\n",
    "        org_text.append(record[1].strip())"
   ]
  },
  {
   "cell_type": "code",
   "execution_count": 12,
   "id": "3fa93913",
   "metadata": {},
   "outputs": [],
   "source": [
    "real_data['publisher']=publisher\n",
    "real_data['text']=org_text"
   ]
  },
  {
   "cell_type": "code",
   "execution_count": 13,
   "id": "a38baa40",
   "metadata": {},
   "outputs": [
    {
     "data": {
      "text/html": [
       "<div>\n",
       "<style scoped>\n",
       "    .dataframe tbody tr th:only-of-type {\n",
       "        vertical-align: middle;\n",
       "    }\n",
       "\n",
       "    .dataframe tbody tr th {\n",
       "        vertical-align: top;\n",
       "    }\n",
       "\n",
       "    .dataframe thead th {\n",
       "        text-align: right;\n",
       "    }\n",
       "</style>\n",
       "<table border=\"1\" class=\"dataframe\">\n",
       "  <thead>\n",
       "    <tr style=\"text-align: right;\">\n",
       "      <th></th>\n",
       "      <th>title</th>\n",
       "      <th>text</th>\n",
       "      <th>subject</th>\n",
       "      <th>date</th>\n",
       "      <th>publisher</th>\n",
       "    </tr>\n",
       "  </thead>\n",
       "  <tbody>\n",
       "    <tr>\n",
       "      <th>0</th>\n",
       "      <td>As U.S. budget fight looms, Republicans flip t...</td>\n",
       "      <td>The head of a conservative Republican faction ...</td>\n",
       "      <td>politicsNews</td>\n",
       "      <td>December 31, 2017</td>\n",
       "      <td>WASHINGTON (Reuters)</td>\n",
       "    </tr>\n",
       "    <tr>\n",
       "      <th>1</th>\n",
       "      <td>U.S. military to accept transgender recruits o...</td>\n",
       "      <td>Transgender people will be allowed for the fir...</td>\n",
       "      <td>politicsNews</td>\n",
       "      <td>December 29, 2017</td>\n",
       "      <td>WASHINGTON (Reuters)</td>\n",
       "    </tr>\n",
       "    <tr>\n",
       "      <th>2</th>\n",
       "      <td>Senior U.S. Republican senator: 'Let Mr. Muell...</td>\n",
       "      <td>The special counsel investigation of links bet...</td>\n",
       "      <td>politicsNews</td>\n",
       "      <td>December 31, 2017</td>\n",
       "      <td>WASHINGTON (Reuters)</td>\n",
       "    </tr>\n",
       "    <tr>\n",
       "      <th>3</th>\n",
       "      <td>FBI Russia probe helped by Australian diplomat...</td>\n",
       "      <td>Trump campaign adviser George Papadopoulos tol...</td>\n",
       "      <td>politicsNews</td>\n",
       "      <td>December 30, 2017</td>\n",
       "      <td>WASHINGTON (Reuters)</td>\n",
       "    </tr>\n",
       "    <tr>\n",
       "      <th>4</th>\n",
       "      <td>Trump wants Postal Service to charge 'much mor...</td>\n",
       "      <td>President Donald Trump called on the U.S. Post...</td>\n",
       "      <td>politicsNews</td>\n",
       "      <td>December 29, 2017</td>\n",
       "      <td>SEATTLE/WASHINGTON (Reuters)</td>\n",
       "    </tr>\n",
       "  </tbody>\n",
       "</table>\n",
       "</div>"
      ],
      "text/plain": [
       "                                               title  \\\n",
       "0  As U.S. budget fight looms, Republicans flip t...   \n",
       "1  U.S. military to accept transgender recruits o...   \n",
       "2  Senior U.S. Republican senator: 'Let Mr. Muell...   \n",
       "3  FBI Russia probe helped by Australian diplomat...   \n",
       "4  Trump wants Postal Service to charge 'much mor...   \n",
       "\n",
       "                                                text       subject  \\\n",
       "0  The head of a conservative Republican faction ...  politicsNews   \n",
       "1  Transgender people will be allowed for the fir...  politicsNews   \n",
       "2  The special counsel investigation of links bet...  politicsNews   \n",
       "3  Trump campaign adviser George Papadopoulos tol...  politicsNews   \n",
       "4  President Donald Trump called on the U.S. Post...  politicsNews   \n",
       "\n",
       "                 date                     publisher  \n",
       "0  December 31, 2017           WASHINGTON (Reuters)  \n",
       "1  December 29, 2017           WASHINGTON (Reuters)  \n",
       "2  December 31, 2017           WASHINGTON (Reuters)  \n",
       "3  December 30, 2017           WASHINGTON (Reuters)  \n",
       "4  December 29, 2017   SEATTLE/WASHINGTON (Reuters)  "
      ]
     },
     "execution_count": 13,
     "metadata": {},
     "output_type": "execute_result"
    }
   ],
   "source": [
    "real_data.head()"
   ]
  },
  {
   "cell_type": "code",
   "execution_count": 14,
   "id": "80b9fbc4",
   "metadata": {},
   "outputs": [
    {
     "name": "stdout",
     "output_type": "stream",
     "text": [
      "(21416, 5) (23481, 4)\n"
     ]
    }
   ],
   "source": [
    "print(real_data.shape,fake_data.shape)"
   ]
  },
  {
   "cell_type": "code",
   "execution_count": 15,
   "id": "9d8bc9aa",
   "metadata": {},
   "outputs": [],
   "source": [
    "empty_fake_index=[index for index,text in enumerate(fake_data.text.tolist()) if str(text).strip()==\"\"]"
   ]
  },
  {
   "cell_type": "code",
   "execution_count": 16,
   "id": "8d82fc23",
   "metadata": {},
   "outputs": [
    {
     "data": {
      "text/html": [
       "<div>\n",
       "<style scoped>\n",
       "    .dataframe tbody tr th:only-of-type {\n",
       "        vertical-align: middle;\n",
       "    }\n",
       "\n",
       "    .dataframe tbody tr th {\n",
       "        vertical-align: top;\n",
       "    }\n",
       "\n",
       "    .dataframe thead th {\n",
       "        text-align: right;\n",
       "    }\n",
       "</style>\n",
       "<table border=\"1\" class=\"dataframe\">\n",
       "  <thead>\n",
       "    <tr style=\"text-align: right;\">\n",
       "      <th></th>\n",
       "      <th>title</th>\n",
       "      <th>text</th>\n",
       "      <th>subject</th>\n",
       "      <th>date</th>\n",
       "    </tr>\n",
       "  </thead>\n",
       "  <tbody>\n",
       "    <tr>\n",
       "      <th>10923</th>\n",
       "      <td>TAKE OUR POLL: Who Do You Think President Trum...</td>\n",
       "      <td></td>\n",
       "      <td>politics</td>\n",
       "      <td>May 10, 2017</td>\n",
       "    </tr>\n",
       "    <tr>\n",
       "      <th>11041</th>\n",
       "      <td>Joe Scarborough BERATES Mika Brzezinski Over “...</td>\n",
       "      <td></td>\n",
       "      <td>politics</td>\n",
       "      <td>Apr 26, 2017</td>\n",
       "    </tr>\n",
       "    <tr>\n",
       "      <th>11190</th>\n",
       "      <td>WATCH TUCKER CARLSON Scorch Sanctuary City May...</td>\n",
       "      <td></td>\n",
       "      <td>politics</td>\n",
       "      <td>Apr 6, 2017</td>\n",
       "    </tr>\n",
       "    <tr>\n",
       "      <th>11225</th>\n",
       "      <td>MAYOR OF SANCTUARY CITY: Trump Trying To Make ...</td>\n",
       "      <td></td>\n",
       "      <td>politics</td>\n",
       "      <td>Apr 2, 2017</td>\n",
       "    </tr>\n",
       "    <tr>\n",
       "      <th>11236</th>\n",
       "      <td>SHOCKER: Public School Turns Computer Lab Into...</td>\n",
       "      <td></td>\n",
       "      <td>politics</td>\n",
       "      <td>Apr 1, 2017</td>\n",
       "    </tr>\n",
       "    <tr>\n",
       "      <th>...</th>\n",
       "      <td>...</td>\n",
       "      <td>...</td>\n",
       "      <td>...</td>\n",
       "      <td>...</td>\n",
       "    </tr>\n",
       "    <tr>\n",
       "      <th>21816</th>\n",
       "      <td>BALTIMORE BURNS: MARYLAND GOVERNOR BRINGS IN N...</td>\n",
       "      <td></td>\n",
       "      <td>left-news</td>\n",
       "      <td>Apr 27, 2015</td>\n",
       "    </tr>\n",
       "    <tr>\n",
       "      <th>21826</th>\n",
       "      <td>FULL VIDEO: THE BLOCKBUSTER INVESTIGATION INTO...</td>\n",
       "      <td></td>\n",
       "      <td>left-news</td>\n",
       "      <td>Apr 25, 2015</td>\n",
       "    </tr>\n",
       "    <tr>\n",
       "      <th>21827</th>\n",
       "      <td>(VIDEO) HILLARY CLINTON: RELIGIOUS BELIEFS MUS...</td>\n",
       "      <td></td>\n",
       "      <td>left-news</td>\n",
       "      <td>Apr 25, 2015</td>\n",
       "    </tr>\n",
       "    <tr>\n",
       "      <th>21857</th>\n",
       "      <td>(VIDEO)ICE PROTECTING OBAMA: WON’T RELEASE NAM...</td>\n",
       "      <td></td>\n",
       "      <td>left-news</td>\n",
       "      <td>Apr 14, 2015</td>\n",
       "    </tr>\n",
       "    <tr>\n",
       "      <th>21873</th>\n",
       "      <td>(VIDEO) HYSTERICAL SNL TAKE ON HILLARY’S ANNOU...</td>\n",
       "      <td></td>\n",
       "      <td>left-news</td>\n",
       "      <td>Apr 12, 2015</td>\n",
       "    </tr>\n",
       "  </tbody>\n",
       "</table>\n",
       "<p>630 rows × 4 columns</p>\n",
       "</div>"
      ],
      "text/plain": [
       "                                                   title text    subject  \\\n",
       "10923  TAKE OUR POLL: Who Do You Think President Trum...        politics   \n",
       "11041  Joe Scarborough BERATES Mika Brzezinski Over “...        politics   \n",
       "11190  WATCH TUCKER CARLSON Scorch Sanctuary City May...        politics   \n",
       "11225  MAYOR OF SANCTUARY CITY: Trump Trying To Make ...        politics   \n",
       "11236  SHOCKER: Public School Turns Computer Lab Into...        politics   \n",
       "...                                                  ...  ...        ...   \n",
       "21816  BALTIMORE BURNS: MARYLAND GOVERNOR BRINGS IN N...       left-news   \n",
       "21826  FULL VIDEO: THE BLOCKBUSTER INVESTIGATION INTO...       left-news   \n",
       "21827  (VIDEO) HILLARY CLINTON: RELIGIOUS BELIEFS MUS...       left-news   \n",
       "21857  (VIDEO)ICE PROTECTING OBAMA: WON’T RELEASE NAM...       left-news   \n",
       "21873  (VIDEO) HYSTERICAL SNL TAKE ON HILLARY’S ANNOU...       left-news   \n",
       "\n",
       "               date  \n",
       "10923  May 10, 2017  \n",
       "11041  Apr 26, 2017  \n",
       "11190   Apr 6, 2017  \n",
       "11225   Apr 2, 2017  \n",
       "11236   Apr 1, 2017  \n",
       "...             ...  \n",
       "21816  Apr 27, 2015  \n",
       "21826  Apr 25, 2015  \n",
       "21827  Apr 25, 2015  \n",
       "21857  Apr 14, 2015  \n",
       "21873  Apr 12, 2015  \n",
       "\n",
       "[630 rows x 4 columns]"
      ]
     },
     "execution_count": 16,
     "metadata": {},
     "output_type": "execute_result"
    }
   ],
   "source": [
    "fake_data.iloc[empty_fake_index]"
   ]
  },
  {
   "cell_type": "code",
   "execution_count": 17,
   "id": "328d9015",
   "metadata": {},
   "outputs": [],
   "source": [
    "real_data['text']=real_data['title']+\" \"+real_data['text']\n",
    "fake_data['text']=fake_data['title']+\" \"+fake_data['text']"
   ]
  },
  {
   "cell_type": "code",
   "execution_count": 18,
   "id": "a8fa66ac",
   "metadata": {},
   "outputs": [],
   "source": [
    "fake_data['text']=fake_data['text'].apply(lambda x:str(x).lower())\n",
    "real_data['text']=real_data['text'].apply(lambda x:str(x).lower())"
   ]
  },
  {
   "cell_type": "code",
   "execution_count": 19,
   "id": "2f067cb2",
   "metadata": {},
   "outputs": [],
   "source": [
    "real_data['class']=1\n",
    "fake_data['class']=0"
   ]
  },
  {
   "cell_type": "code",
   "execution_count": 20,
   "id": "d5ca0c0e",
   "metadata": {},
   "outputs": [],
   "source": [
    "real_data=real_data[['text','class']]\n",
    "fake_data=fake_data[['text','class']]"
   ]
  },
  {
   "cell_type": "code",
   "execution_count": 21,
   "id": "3b52ca1f",
   "metadata": {},
   "outputs": [],
   "source": [
    "data=pd.concat([real_data,fake_data])"
   ]
  },
  {
   "cell_type": "code",
   "execution_count": 22,
   "id": "f6424045",
   "metadata": {},
   "outputs": [],
   "source": [
    "data=data.sample(frac=1).reset_index(drop=True)"
   ]
  },
  {
   "cell_type": "code",
   "execution_count": 23,
   "id": "e989dc3a",
   "metadata": {},
   "outputs": [
    {
     "data": {
      "text/html": [
       "<div>\n",
       "<style scoped>\n",
       "    .dataframe tbody tr th:only-of-type {\n",
       "        vertical-align: middle;\n",
       "    }\n",
       "\n",
       "    .dataframe tbody tr th {\n",
       "        vertical-align: top;\n",
       "    }\n",
       "\n",
       "    .dataframe thead th {\n",
       "        text-align: right;\n",
       "    }\n",
       "</style>\n",
       "<table border=\"1\" class=\"dataframe\">\n",
       "  <thead>\n",
       "    <tr style=\"text-align: right;\">\n",
       "      <th></th>\n",
       "      <th>text</th>\n",
       "      <th>class</th>\n",
       "    </tr>\n",
       "  </thead>\n",
       "  <tbody>\n",
       "    <tr>\n",
       "      <th>0</th>\n",
       "      <td>awesome! president trump gives fatherly advice...</td>\n",
       "      <td>0</td>\n",
       "    </tr>\n",
       "    <tr>\n",
       "      <th>1</th>\n",
       "      <td>trump hails deals worth 'billions' with vietna...</td>\n",
       "      <td>1</td>\n",
       "    </tr>\n",
       "    <tr>\n",
       "      <th>2</th>\n",
       "      <td>tillerson, lavrov agree to continue north kore...</td>\n",
       "      <td>1</td>\n",
       "    </tr>\n",
       "    <tr>\n",
       "      <th>3</th>\n",
       "      <td>did beyonce and jay z’s “vacation” to communis...</td>\n",
       "      <td>0</td>\n",
       "    </tr>\n",
       "    <tr>\n",
       "      <th>4</th>\n",
       "      <td>cnn panel breaks out in chaos after someone c...</td>\n",
       "      <td>0</td>\n",
       "    </tr>\n",
       "    <tr>\n",
       "      <th>...</th>\n",
       "      <td>...</td>\n",
       "      <td>...</td>\n",
       "    </tr>\n",
       "    <tr>\n",
       "      <th>44892</th>\n",
       "      <td>china upset by u.s. republican platform on sou...</td>\n",
       "      <td>1</td>\n",
       "    </tr>\n",
       "    <tr>\n",
       "      <th>44893</th>\n",
       "      <td>no kidding! here’s why hillary supporters will...</td>\n",
       "      <td>0</td>\n",
       "    </tr>\n",
       "    <tr>\n",
       "      <th>44894</th>\n",
       "      <td>some republican pundits, politicians remain de...</td>\n",
       "      <td>1</td>\n",
       "    </tr>\n",
       "    <tr>\n",
       "      <th>44895</th>\n",
       "      <td>black gop candidate: party bosses told me ‘yo...</td>\n",
       "      <td>0</td>\n",
       "    </tr>\n",
       "    <tr>\n",
       "      <th>44896</th>\n",
       "      <td>this republican just gave the most honest res...</td>\n",
       "      <td>0</td>\n",
       "    </tr>\n",
       "  </tbody>\n",
       "</table>\n",
       "<p>44897 rows × 2 columns</p>\n",
       "</div>"
      ],
      "text/plain": [
       "                                                    text  class\n",
       "0      awesome! president trump gives fatherly advice...      0\n",
       "1      trump hails deals worth 'billions' with vietna...      1\n",
       "2      tillerson, lavrov agree to continue north kore...      1\n",
       "3      did beyonce and jay z’s “vacation” to communis...      0\n",
       "4       cnn panel breaks out in chaos after someone c...      0\n",
       "...                                                  ...    ...\n",
       "44892  china upset by u.s. republican platform on sou...      1\n",
       "44893  no kidding! here’s why hillary supporters will...      0\n",
       "44894  some republican pundits, politicians remain de...      1\n",
       "44895   black gop candidate: party bosses told me ‘yo...      0\n",
       "44896   this republican just gave the most honest res...      0\n",
       "\n",
       "[44897 rows x 2 columns]"
      ]
     },
     "execution_count": 23,
     "metadata": {},
     "output_type": "execute_result"
    }
   ],
   "source": [
    "data"
   ]
  },
  {
   "cell_type": "code",
   "execution_count": 24,
   "id": "5ea53dd3",
   "metadata": {},
   "outputs": [],
   "source": [
    "for i in range(data.shape[0]):\n",
    "    row=data.iloc(0)\n",
    "    a=row[i].text\n",
    "    a=''.join(letter for letter in a if (letter.isalnum() or letter==' '))\n",
    "    data.loc[i,'text']=a"
   ]
  },
  {
   "cell_type": "code",
   "execution_count": 25,
   "id": "5f9f7416",
   "metadata": {},
   "outputs": [
    {
     "data": {
      "text/html": [
       "<div>\n",
       "<style scoped>\n",
       "    .dataframe tbody tr th:only-of-type {\n",
       "        vertical-align: middle;\n",
       "    }\n",
       "\n",
       "    .dataframe tbody tr th {\n",
       "        vertical-align: top;\n",
       "    }\n",
       "\n",
       "    .dataframe thead th {\n",
       "        text-align: right;\n",
       "    }\n",
       "</style>\n",
       "<table border=\"1\" class=\"dataframe\">\n",
       "  <thead>\n",
       "    <tr style=\"text-align: right;\">\n",
       "      <th></th>\n",
       "      <th>text</th>\n",
       "      <th>class</th>\n",
       "    </tr>\n",
       "  </thead>\n",
       "  <tbody>\n",
       "    <tr>\n",
       "      <th>0</th>\n",
       "      <td>awesome president trump gives fatherly advice ...</td>\n",
       "      <td>0</td>\n",
       "    </tr>\n",
       "    <tr>\n",
       "      <th>1</th>\n",
       "      <td>trump hails deals worth billions with vietnam ...</td>\n",
       "      <td>1</td>\n",
       "    </tr>\n",
       "    <tr>\n",
       "      <th>2</th>\n",
       "      <td>tillerson lavrov agree to continue north korea...</td>\n",
       "      <td>1</td>\n",
       "    </tr>\n",
       "    <tr>\n",
       "      <th>3</th>\n",
       "      <td>did beyonce and jay zs vacation to communist c...</td>\n",
       "      <td>0</td>\n",
       "    </tr>\n",
       "    <tr>\n",
       "      <th>4</th>\n",
       "      <td>cnn panel breaks out in chaos after someone c...</td>\n",
       "      <td>0</td>\n",
       "    </tr>\n",
       "    <tr>\n",
       "      <th>...</th>\n",
       "      <td>...</td>\n",
       "      <td>...</td>\n",
       "    </tr>\n",
       "    <tr>\n",
       "      <th>44892</th>\n",
       "      <td>china upset by us republican platform on south...</td>\n",
       "      <td>1</td>\n",
       "    </tr>\n",
       "    <tr>\n",
       "      <th>44893</th>\n",
       "      <td>no kidding heres why hillary supporters will g...</td>\n",
       "      <td>0</td>\n",
       "    </tr>\n",
       "    <tr>\n",
       "      <th>44894</th>\n",
       "      <td>some republican pundits politicians remain def...</td>\n",
       "      <td>1</td>\n",
       "    </tr>\n",
       "    <tr>\n",
       "      <th>44895</th>\n",
       "      <td>black gop candidate party bosses told me you ...</td>\n",
       "      <td>0</td>\n",
       "    </tr>\n",
       "    <tr>\n",
       "      <th>44896</th>\n",
       "      <td>this republican just gave the most honest res...</td>\n",
       "      <td>0</td>\n",
       "    </tr>\n",
       "  </tbody>\n",
       "</table>\n",
       "<p>44897 rows × 2 columns</p>\n",
       "</div>"
      ],
      "text/plain": [
       "                                                    text  class\n",
       "0      awesome president trump gives fatherly advice ...      0\n",
       "1      trump hails deals worth billions with vietnam ...      1\n",
       "2      tillerson lavrov agree to continue north korea...      1\n",
       "3      did beyonce and jay zs vacation to communist c...      0\n",
       "4       cnn panel breaks out in chaos after someone c...      0\n",
       "...                                                  ...    ...\n",
       "44892  china upset by us republican platform on south...      1\n",
       "44893  no kidding heres why hillary supporters will g...      0\n",
       "44894  some republican pundits politicians remain def...      1\n",
       "44895   black gop candidate party bosses told me you ...      0\n",
       "44896   this republican just gave the most honest res...      0\n",
       "\n",
       "[44897 rows x 2 columns]"
      ]
     },
     "execution_count": 25,
     "metadata": {},
     "output_type": "execute_result"
    }
   ],
   "source": [
    "data"
   ]
  },
  {
   "cell_type": "code",
   "execution_count": 26,
   "id": "fe9ae171",
   "metadata": {},
   "outputs": [],
   "source": [
    "y=data['class'].values"
   ]
  },
  {
   "cell_type": "code",
   "execution_count": 27,
   "id": "04b35618",
   "metadata": {},
   "outputs": [],
   "source": [
    "x=[d.split() for d in data['text'].tolist()]"
   ]
  },
  {
   "cell_type": "code",
   "execution_count": 28,
   "id": "2b38953b",
   "metadata": {},
   "outputs": [],
   "source": [
    "dim=100\n",
    "w2v=gensim.models.Word2Vec(sentences=x,vector_size=dim,window=10,min_count=1)"
   ]
  },
  {
   "cell_type": "code",
   "execution_count": 29,
   "id": "311dd51b-1272-42e4-b4b0-8d046f9167d4",
   "metadata": {},
   "outputs": [
    {
     "data": {
      "text/plain": [
       "list"
      ]
     },
     "execution_count": 29,
     "metadata": {},
     "output_type": "execute_result"
    }
   ],
   "source": [
    "type(data['text'].tolist())"
   ]
  },
  {
   "cell_type": "code",
   "execution_count": 30,
   "id": "6c4652fe",
   "metadata": {},
   "outputs": [
    {
     "data": {
      "text/plain": [
       "231834"
      ]
     },
     "execution_count": 30,
     "metadata": {},
     "output_type": "execute_result"
    }
   ],
   "source": [
    "len(w2v.wv)"
   ]
  },
  {
   "cell_type": "code",
   "execution_count": 31,
   "id": "e6840dcd",
   "metadata": {},
   "outputs": [
    {
     "data": {
      "text/plain": [
       "array([-1.1559559 ,  0.03128238, -1.593253  , -1.6491135 ,  2.1078632 ,\n",
       "       -2.6546474 , -0.34149346,  1.0549041 , -1.2302619 ,  0.3664667 ,\n",
       "       -1.0830226 ,  0.31261367,  0.26147538, -2.4189854 ,  0.45931172,\n",
       "        1.6507204 , -1.3654513 ,  0.23104782, -2.0168867 , -1.1872078 ,\n",
       "        0.99251264, -0.28944337,  0.5812651 , -1.1543342 ,  0.72303045,\n",
       "        0.856996  , -1.1790637 ,  0.42866737,  0.92044413,  1.1645217 ,\n",
       "        2.0976334 , -1.6464666 , -0.63361645, -0.2898522 , -0.3969476 ,\n",
       "        1.1004424 ,  1.5698861 , -0.5911504 ,  2.9605227 , -1.2814198 ,\n",
       "        0.4309336 , -2.3986936 ,  0.53463405, -3.3959422 ,  2.750091  ,\n",
       "        1.994035  , -0.91110235,  1.6350445 , -1.191159  , -1.3669893 ,\n",
       "       -2.7145202 ,  0.05162999,  0.82683283,  0.14887927,  0.9241226 ,\n",
       "       -2.1085856 , -1.8766539 ,  0.73546934, -2.320937  , -0.11529483,\n",
       "        2.3395054 , -0.3692159 , -0.6140339 , -1.3957584 , -1.0698835 ,\n",
       "       -1.3994907 , -0.49528375,  0.9896243 , -3.3170643 , -0.523462  ,\n",
       "       -0.08719356, -3.250815  , -1.2627984 ,  3.2282867 , -0.48830938,\n",
       "       -0.29193676, -1.0629923 ,  2.928484  ,  1.4040601 ,  1.6938453 ,\n",
       "        0.37235153, -2.8567157 , -3.1640387 ,  0.3753872 , -2.3229046 ,\n",
       "       -3.1494405 , -0.5935164 ,  1.0595204 ,  2.5285883 , -0.70804083,\n",
       "        0.20894134,  0.36957997,  0.5994145 , -0.5738407 ,  1.668469  ,\n",
       "        0.37836087, -1.4158384 ,  0.61532634, -0.26406357,  0.750922  ],\n",
       "      dtype=float32)"
      ]
     },
     "execution_count": 31,
     "metadata": {},
     "output_type": "execute_result"
    }
   ],
   "source": [
    "w2v.wv['usa']"
   ]
  },
  {
   "cell_type": "code",
   "execution_count": 32,
   "id": "72f10bd3",
   "metadata": {},
   "outputs": [
    {
     "data": {
      "text/plain": [
       "[('american', 0.5325412750244141),\n",
       " ('washingtons', 0.518746554851532),\n",
       " ('russias', 0.5162237882614136),\n",
       " ('russian', 0.5107115507125854),\n",
       " ('countrys', 0.5067863464355469),\n",
       " ('americas', 0.45666009187698364),\n",
       " ('natos', 0.4474741220474243),\n",
       " ('factoriesthe', 0.42877116799354553),\n",
       " ('nato', 0.4285197854042053),\n",
       " ('chinas', 0.4279332160949707)]"
      ]
     },
     "execution_count": 32,
     "metadata": {},
     "output_type": "execute_result"
    }
   ],
   "source": [
    "w2v.wv.most_similar('us')"
   ]
  },
  {
   "cell_type": "code",
   "execution_count": 33,
   "id": "99771439",
   "metadata": {},
   "outputs": [],
   "source": [
    "tokenizer=Tokenizer()"
   ]
  },
  {
   "cell_type": "code",
   "execution_count": 34,
   "id": "877d41f0",
   "metadata": {},
   "outputs": [],
   "source": [
    "tokenizer.fit_on_texts(x)"
   ]
  },
  {
   "cell_type": "code",
   "execution_count": 35,
   "id": "c7672113",
   "metadata": {},
   "outputs": [],
   "source": [
    "X=tokenizer.texts_to_sequences(x)"
   ]
  },
  {
   "cell_type": "code",
   "execution_count": 36,
   "id": "96520597",
   "metadata": {},
   "outputs": [
    {
     "data": {
      "image/png": "[encoded data removed]",
      "text/plain": [
       "<Figure size 640x480 with 1 Axes>"
      ]
     },
     "metadata": {},
     "output_type": "display_data"
    }
   ],
   "source": [
    "plt.hist([len(i) for i in X],bins=700)\n",
    "plt.show()"
   ]
  },
  {
   "cell_type": "code",
   "execution_count": 37,
   "id": "1842ef51",
   "metadata": {},
   "outputs": [
    {
     "data": {
      "text/plain": [
       "1584"
      ]
     },
     "execution_count": 37,
     "metadata": {},
     "output_type": "execute_result"
    }
   ],
   "source": [
    "nos=np.array([len(i) for i in X])\n",
    "len(nos[nos>1000])"
   ]
  },
  {
   "cell_type": "code",
   "execution_count": 38,
   "id": "803040f6",
   "metadata": {},
   "outputs": [],
   "source": [
    "X=pad_sequences(X,maxlen=1000)"
   ]
  },
  {
   "cell_type": "code",
   "execution_count": 39,
   "id": "055edd47",
   "metadata": {},
   "outputs": [
    {
     "data": {
      "text/plain": [
       "1000"
      ]
     },
     "execution_count": 39,
     "metadata": {},
     "output_type": "execute_result"
    }
   ],
   "source": [
    "len(X[101])"
   ]
  },
  {
   "cell_type": "code",
   "execution_count": 40,
   "id": "d092679b",
   "metadata": {},
   "outputs": [],
   "source": [
    "vocab_size=len(tokenizer.word_index)+1"
   ]
  },
  {
   "cell_type": "code",
   "execution_count": 41,
   "id": "f3c74d61",
   "metadata": {},
   "outputs": [],
   "source": [
    "vocab=tokenizer.word_index"
   ]
  },
  {
   "cell_type": "code",
   "execution_count": 42,
   "id": "93fc697e",
   "metadata": {},
   "outputs": [],
   "source": [
    "def get_weight_matrix(model):\n",
    "    weight_matrix=np.zeros((vocab_size,100))\n",
    "    for word,i in vocab.items():\n",
    "        weight_matrix[i]=model.wv[word]\n",
    "    return weight_matrix"
   ]
  },
  {
   "cell_type": "code",
   "execution_count": 43,
   "id": "784cb878",
   "metadata": {},
   "outputs": [],
   "source": [
    "embedding_vector=get_weight_matrix(w2v)"
   ]
  },
  {
   "cell_type": "code",
   "execution_count": 44,
   "id": "20d32dd4",
   "metadata": {},
   "outputs": [
    {
     "data": {
      "text/plain": [
       "(231835, 100)"
      ]
     },
     "execution_count": 44,
     "metadata": {},
     "output_type": "execute_result"
    }
   ],
   "source": [
    "embedding_vector.shape"
   ]
  },
  {
   "cell_type": "code",
   "execution_count": 45,
   "id": "d8847c85",
   "metadata": {},
   "outputs": [],
   "source": [
    "model=Sequential()\n",
    "model.add(Embedding(vocab_size,output_dim=100,weights=[embedding_vector],input_length=1000,trainable=False))"
   ]
  },
  {
   "cell_type": "code",
   "execution_count": 46,
   "id": "15f040bd",
   "metadata": {},
   "outputs": [],
   "source": [
    "model.add(LSTM(units=128))\n",
    "model.add(Dense(1,activation='sigmoid'))\n",
    "model.compile(optimizer='adam',loss='binary_crossentropy',metrics=['acc'])"
   ]
  },
  {
   "cell_type": "code",
   "execution_count": 47,
   "id": "c99db167",
   "metadata": {},
   "outputs": [
    {
     "name": "stdout",
     "output_type": "stream",
     "text": [
      "Model: \"sequential\"\n",
      "_________________________________________________________________\n",
      " Layer (type)                Output Shape              Param #   \n",
      "=================================================================\n",
      " embedding (Embedding)       (None, 1000, 100)         23183500  \n",
      "                                                                 \n",
      " lstm (LSTM)                 (None, 128)               117248    \n",
      "                                                                 \n",
      " dense (Dense)               (None, 1)                 129       \n",
      "                                                                 \n",
      "=================================================================\n",
      "Total params: 23300877 (88.89 MB)\n",
      "Trainable params: 117377 (458.50 KB)\n",
      "Non-trainable params: 23183500 (88.44 MB)\n",
      "_________________________________________________________________\n"
     ]
    }
   ],
   "source": [
    "model.summary()"
   ]
  },
  {
   "cell_type": "code",
   "execution_count": 48,
   "id": "430c1b2b",
   "metadata": {},
   "outputs": [],
   "source": [
    "x_train,x_test,y_train,y_test=train_test_split(X,y)"
   ]
  },
  {
   "cell_type": "code",
   "execution_count": 49,
   "id": "fde702ce",
   "metadata": {
    "scrolled": true
   },
   "outputs": [
    {
     "name": "stdout",
     "output_type": "stream",
     "text": [
      "Epoch 1/2\n",
      "737/737 [==============================] - 581s 777ms/step - loss: 0.1450 - acc: 0.9453 - val_loss: 0.0954 - val_acc: 0.9711\n",
      "Epoch 2/2\n",
      "737/737 [==============================] - 654s 887ms/step - loss: 0.0507 - acc: 0.9835 - val_loss: 0.1596 - val_acc: 0.9396\n"
     ]
    },
    {
     "data": {
      "text/plain": [
       "<keras.src.callbacks.History at 0x267b47cd710>"
      ]
     },
     "execution_count": 49,
     "metadata": {},
     "output_type": "execute_result"
    }
   ],
   "source": [
    "model.fit(x_train,y_train,validation_split=0.3,epochs=2)"
   ]
  },
  {
   "cell_type": "code",
   "execution_count": 52,
   "id": "74490a87",
   "metadata": {},
   "outputs": [
    {
     "name": "stdout",
     "output_type": "stream",
     "text": [
      "351/351 [==============================] - 102s 291ms/step\n"
     ]
    }
   ],
   "source": [
    "y_pred=(model.predict(x_test)>=0.5).astype(int)"
   ]
  },
  {
   "cell_type": "code",
   "execution_count": 36,
   "id": "3cac47a2",
   "metadata": {},
   "outputs": [
    {
     "data": {
      "text/plain": [
       "0.9860133630289533"
      ]
     },
     "execution_count": 36,
     "metadata": {},
     "output_type": "execute_result"
    }
   ],
   "source": []
  },
  {
   "cell_type": "code",
   "execution_count": 54,
   "id": "5a5e8350",
   "metadata": {},
   "outputs": [
    {
     "name": "stdout",
     "output_type": "stream",
     "text": [
      "              precision    recall  f1-score   support\n",
      "\n",
      "           0       0.98      0.99      0.99      5850\n",
      "           1       0.99      0.98      0.98      5375\n",
      "\n",
      "    accuracy                           0.98     11225\n",
      "   macro avg       0.98      0.98      0.98     11225\n",
      "weighted avg       0.98      0.98      0.98     11225\n",
      "\n"
     ]
    }
   ],
   "source": [
    "print(classification_report(y_test,y_pred))"
   ]
  },
  {
   "cell_type": "code",
   "execution_count": 50,
   "id": "14519bae",
   "metadata": {},
   "outputs": [],
   "source": [
    "def plot_confusion_matrix(cm, classes,\n",
    "                          normalize=False,\n",
    "                          title='Confusion matrix',\n",
    "                          cmap=plt.cm.Blues):\n",
    "  \n",
    "    plt.imshow(cm, interpolation='nearest', cmap=cmap)\n",
    "    plt.title(title)\n",
    "    plt.colorbar()\n",
    "    tick_marks = np.arange(len(classes))\n",
    "    plt.xticks(tick_marks, classes, rotation=45)\n",
    "    plt.yticks(tick_marks, classes)\n",
    "\n",
    "    if normalize:\n",
    "        cm = cm.astype('float') / cm.sum(axis=1)[:, np.newaxis]\n",
    "        print(\"Normalized confusion matrix\")\n",
    "    else:\n",
    "        print('Confusion matrix, without normalization')\n",
    "\n",
    "    thresh = cm.max() / 2.\n",
    "    for i, j in product(range(cm.shape[0]), range(cm.shape[1])):\n",
    "        plt.text(j, i, cm[i, j],\n",
    "                 horizontalalignment=\"center\",\n",
    "                 color=\"white\" if cm[i, j] > thresh else \"black\")\n",
    "\n",
    "    plt.tight_layout()\n",
    "    plt.ylabel('True label')\n",
    "    plt.xlabel('Predicted label')"
   ]
  },
  {
   "cell_type": "code",
   "execution_count": 53,
   "id": "b75b1e64-452a-482e-ad6e-e9db6faa42d1",
   "metadata": {},
   "outputs": [
    {
     "data": {
      "text/plain": [
       "0.9425389755011135"
      ]
     },
     "execution_count": 53,
     "metadata": {},
     "output_type": "execute_result"
    }
   ],
   "source": [
    "accuracy_score(y_test,y_pred)"
   ]
  },
  {
   "cell_type": "code",
   "execution_count": 54,
   "id": "93c5e70a",
   "metadata": {
    "scrolled": true
   },
   "outputs": [
    {
     "name": "stdout",
     "output_type": "stream",
     "text": [
      "Confusion matrix, without normalization\n"
     ]
    },
    {
     "data": {
      "image/png": "[encoded data removed]",
      "text/plain": [
       "<Figure size 640x480 with 2 Axes>"
      ]
     },
     "metadata": {},
     "output_type": "display_data"
    }
   ],
   "source": [
    "cm = confusion_matrix(y_test,y_pred)\n",
    "plot_confusion_matrix(cm, classes=['FAKE', 'REAL'])"
   ]
  },
  {
   "cell_type": "code",
   "execution_count": 40,
   "id": "babb9d04-dfa4-4a75-a994-dfcc424f2c31",
   "metadata": {},
   "outputs": [],
   "source": [
    "import pickle"
   ]
  },
  {
   "cell_type": "code",
   "execution_count": 51,
   "id": "8b24b27f",
   "metadata": {},
   "outputs": [
    {
     "name": "stdout",
     "output_type": "stream",
     "text": [
      "Model saved successfully at: D:\\coding\\BTP\\model2.h5\n",
      "Model saved successfully at: D:\\coding\\BTP\\tfidfvect2.pkl\n"
     ]
    }
   ],
   "source": [
    "model_path = 'D:\\\\coding\\\\BTP\\\\model2.h5'\n",
    "w2v_path = 'D:\\\\coding\\\\BTP\\\\tfidfvect2.pkl'\n",
    "\n",
    "# Save model\n",
    "try:\n",
    "    with open(model_path, 'wb') as model_file:\n",
    "        pickle.dump(model, model_file)\n",
    "    print(f\"Model saved successfully at: {model_path}\")\n",
    "except Exception as e:\n",
    "    print(f\"Error saving model: {e}\")\n",
    "    \n",
    "try:\n",
    "    with open(w2v_path, 'wb') as w2v_file:\n",
    "        pickle.dump(w2v, w2v_file)\n",
    "    print(f\"Model saved successfully at: {w2v_path}\")\n",
    "except Exception as e:\n",
    "    print(f\"Error saving model: {e}\")"
   ]
  },
  {
   "cell_type": "code",
   "execution_count": 42,
   "id": "2bf8a4a1",
   "metadata": {},
   "outputs": [],
   "source": [
    "joblib_model = pickle.load(open('model2.pkl', 'rb'))\n",
    "joblib_vect = pickle.load(open('tfidfvect2.pkl', 'rb'))"
   ]
  },
  {
   "cell_type": "code",
   "execution_count": 43,
   "id": "9f2ec1a8",
   "metadata": {},
   "outputs": [],
   "source": [
    "x=['this is a news']\n",
    "x=tokenizer.texts_to_sequences(x)\n",
    "x=pad_sequences(x,maxlen=1000)"
   ]
  },
  {
   "cell_type": "code",
   "execution_count": 44,
   "id": "4ef43e33",
   "metadata": {},
   "outputs": [
    {
     "name": "stdout",
     "output_type": "stream",
     "text": [
      "1/1 [==============================] - 1s 515ms/step\n"
     ]
    }
   ],
   "source": [
    "yy=joblib_model.predict(x)"
   ]
  },
  {
   "cell_type": "code",
   "execution_count": 45,
   "id": "58c412ce",
   "metadata": {},
   "outputs": [],
   "source": [
    "yy=(yy>=0.5).astype(int)"
   ]
  },
  {
   "cell_type": "code",
   "execution_count": 46,
   "id": "7bed6b68",
   "metadata": {},
   "outputs": [
    {
     "data": {
      "text/plain": [
       "array([[0]])"
      ]
     },
     "execution_count": 46,
     "metadata": {},
     "output_type": "execute_result"
    }
   ],
   "source": [
    "yy"
   ]
  },
  {
   "cell_type": "code",
   "execution_count": null,
   "id": "ace49f00",
   "metadata": {},
   "outputs": [],
   "source": []
  }
 ],
 "metadata": {
  "kernelspec": {
   "display_name": "Python 3 (ipykernel)",
   "language": "python",
   "name": "python3"
  },
  "language_info": {
   "codemirror_mode": {
    "name": "ipython",
    "version": 3
   },
   "file_extension": ".py",
   "mimetype": "text/x-python",
   "name": "python",
   "nbconvert_exporter": "python",
   "pygments_lexer": "ipython3",
   "version": "3.12.1"
  }
 },
 "nbformat": 4,
 "nbformat_minor": 5
}
